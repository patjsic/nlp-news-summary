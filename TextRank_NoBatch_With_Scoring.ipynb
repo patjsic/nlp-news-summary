{
 "cells": [
  {
   "cell_type": "code",
   "execution_count": 1,
   "id": "af0eee54",
   "metadata": {},
   "outputs": [],
   "source": [
    "import numpy as np\n",
    "import pandas as pd\n",
    "import matplotlib.pyplot as plt\n",
    "from tqdm import tqdm\n",
    "from nltk import tokenize\n",
    "from nltk.corpus import stopwords\n",
    "import re\n",
    "import contractions"
   ]
  },
  {
   "cell_type": "markdown",
   "id": "c60912be",
   "metadata": {},
   "source": [
    "# TextRank"
   ]
  },
  {
   "cell_type": "markdown",
   "id": "7e0aecf4",
   "metadata": {},
   "source": [
    "TextRank is an extractive text summarization algorithm based on the PageRank algorithm utilized by Google. The algorithm looks at sentence vectors (in our case, Word2Vec embeddings) and calculates the similarities between these vectors using cosine similarity. The similarity matrix is then converted to a graph, with the sentence vectors as verticies and similarities being the edges. \n",
    "\n",
    "The output of PageRank is a probability distribution with the most-likely pages to be visited with a set of random clicks. In our case, we substitute this likelihood with the likelihood that a sentence is of importance. We then take the top k of these sentences and concatenate them into a summary."
   ]
  },
  {
   "cell_type": "code",
   "execution_count": 2,
   "id": "ee98c0c8",
   "metadata": {},
   "outputs": [],
   "source": [
    "data = pd.read_csv('data/cleaned_data.csv')\n",
    "data = data[['Summary', 'Text']]"
   ]
  },
  {
   "cell_type": "code",
   "execution_count": 3,
   "id": "81fa5744",
   "metadata": {},
   "outputs": [],
   "source": [
    "\"\"\" Here we set text to lower case, remove plurals, \n",
    "    expand contractions, remove punctuation, remove stopwords, and remove short words \n",
    "    (could also remove parentheticals)\"\"\"\n",
    "\n",
    "stop = set(stopwords.words('english'))\n",
    "def clean_text(text):\n",
    "    ret = text.lower()\n",
    "    ret = contractions.fix(text)\n",
    "    ret = re.sub(r'\\([^)]*\\)', '', ret)\n",
    "    ret = re.sub('\"','', ret)\n",
    "    ret = re.sub(r\"'s\\b\",\"\", ret)\n",
    "    ret = re.sub(\"[^a-zA-Z]\", \" \", ret) \n",
    "    \n",
    "    #Remove any words shorter than 2 letters\n",
    "    tokens = [w for w in ret.split() if not w in stop]\n",
    "    long_words=[]\n",
    "    for i in tokens:\n",
    "        if len(i)>=3:                 \n",
    "            long_words.append(i)   \n",
    "    return (\" \".join(long_words)).strip()"
   ]
  },
  {
   "cell_type": "code",
   "execution_count": 4,
   "id": "48bd5237",
   "metadata": {},
   "outputs": [],
   "source": [
    "test = data['Text'][0]\n",
    "label = data['Summary'][0]\n",
    "text = test.replace('\\\\', '').replace('/', '').replace('.,', '.').replace('.;,', '.')\n",
    "lbl = label.replace('\\\\', '').replace('/', '').replace('.,', '. ').replace('.;,', '. ')"
   ]
  },
  {
   "cell_type": "code",
   "execution_count": 5,
   "id": "7d292036",
   "metadata": {},
   "outputs": [],
   "source": [
    "from nltk.tokenize import sent_tokenize\n",
    "articles = []\n",
    "\n",
    "sentence = sent_tokenize(text)\n",
    "clean = []\n",
    "for sen in sentence:\n",
    "    clean.append(clean_text(sen))\n",
    "\n",
    "#Word2Vec\n",
    "from gensim.models import Word2Vec\n",
    "from nltk.corpus import stopwords\n",
    "\n",
    "words = []\n",
    "all_words = [i.split() for i in clean]\n",
    "model = Word2Vec(all_words, min_count=1, vector_size=300)\n",
    "\n",
    "sent_vector=[]\n",
    "for i in clean:\n",
    "    plus=0\n",
    "    for j in i.split():\n",
    "        plus+= model.wv[j]\n",
    "    plus = plus/len(i.split())\n",
    "    sent_vector.append(plus)"
   ]
  },
  {
   "cell_type": "code",
   "execution_count": 6,
   "id": "1eaee78a",
   "metadata": {},
   "outputs": [
    {
     "name": "stderr",
     "output_type": "stream",
     "text": [
      "100%|███████████████████████████████████████████| 29/29 [00:00<00:00, 80.85it/s]\n"
     ]
    }
   ],
   "source": [
    "from sklearn.metrics.pairwise import cosine_similarity\n",
    "from tqdm import tqdm\n",
    "\n",
    "#Generate Similarity Matrix\n",
    "mat = np.zeros([len(sentence), len(sentence)])\n",
    "for i in tqdm(range(len(sentence))):\n",
    "    for j in range(len(sentence)):\n",
    "        if i != j:\n",
    "            mat[i][j] = cosine_similarity(sent_vector[i].reshape(1,-1), sent_vector[j].reshape(1, -1))[0,0]"
   ]
  },
  {
   "cell_type": "code",
   "execution_count": 7,
   "id": "6305ff46",
   "metadata": {},
   "outputs": [
    {
     "name": "stderr",
     "output_type": "stream",
     "text": [
      "/var/folders/x0/g7x875dd36bck68hv_ytld_40000gn/T/ipykernel_76315/4062616003.py:5: DeprecationWarning: networkx.pagerank_numpy is deprecated and will be removed in NetworkX 3.0, use networkx.pagerank instead.\n",
      "  scores = net.pagerank_numpy(graph)\n",
      "/Library/Frameworks/Python.framework/Versions/3.8/lib/python3.8/site-packages/networkx/algorithms/link_analysis/pagerank_alg.py:354: FutureWarning: google_matrix will return an np.ndarray instead of a np.matrix in\n",
      "NetworkX version 3.0.\n",
      "  M = google_matrix(\n"
     ]
    }
   ],
   "source": [
    "import networkx as net\n",
    "\n",
    "#Implement TextRank using pre-built PageRank\n",
    "graph = net.from_numpy_array(mat)\n",
    "scores = net.pagerank_numpy(graph)"
   ]
  },
  {
   "cell_type": "code",
   "execution_count": 18,
   "id": "d7313cc0",
   "metadata": {},
   "outputs": [
    {
     "name": "stdout",
     "output_type": "stream",
     "text": [
      " Turning one wall into a chalkboard gives you a perfect space for ideas, sketches, and planning without requiring extra equipment or space. Paint over jars or storage equipment, allowing you to relabel them with chalk as your needs change. This usually has the opposite effect, leading to lost items and uncertainty when cleaning, but an afternoon with a label maker can solve everything. The upper reaches of the room are often the most under-utilized, but provide vital space for all your tools and materials. Discard trash or unnecessary materials and wipe down dirty surfaces.\n"
     ]
    }
   ],
   "source": [
    "ranked_sentences = sorted(((scores[i],s) for i,s in enumerate(sentence)), reverse=True)\n",
    "\n",
    "result = \"\"\n",
    "for i in range(5):\n",
    "    result += \" \" + ranked_sentences[i][1]\n",
    "print(result)"
   ]
  },
  {
   "cell_type": "code",
   "execution_count": 32,
   "id": "01124ce9",
   "metadata": {},
   "outputs": [
    {
     "name": "stdout",
     "output_type": "stream",
     "text": [
      "\u001b[31mERROR: Invalid requirement: 'rouge/requirements.txt'\n",
      "Hint: It looks like a path. File 'rouge/requirements.txt' does not exist.\u001b[0m\u001b[31m\n",
      "\u001b[0mRequirement already satisfied: rouge-score in /Library/Frameworks/Python.framework/Versions/3.8/lib/python3.8/site-packages (0.0.4)\n",
      "Requirement already satisfied: absl-py in /Users/psicurello/Library/Python/3.8/lib/python/site-packages (from rouge-score) (1.0.0)\n",
      "Requirement already satisfied: numpy in /Library/Frameworks/Python.framework/Versions/3.8/lib/python3.8/site-packages (from rouge-score) (1.22.3)\n",
      "Requirement already satisfied: six>=1.14.0 in /Library/Frameworks/Python.framework/Versions/3.8/lib/python3.8/site-packages (from rouge-score) (1.16.0)\n",
      "Requirement already satisfied: nltk in /Users/psicurello/Library/Python/3.8/lib/python/site-packages (from rouge-score) (3.5)\n",
      "Requirement already satisfied: tqdm in /Library/Frameworks/Python.framework/Versions/3.8/lib/python3.8/site-packages (from nltk->rouge-score) (4.64.0)\n",
      "Requirement already satisfied: joblib in /Users/psicurello/Library/Python/3.8/lib/python/site-packages (from nltk->rouge-score) (1.0.0)\n",
      "Requirement already satisfied: regex in /Users/psicurello/Library/Python/3.8/lib/python/site-packages (from nltk->rouge-score) (2020.11.13)\n",
      "Requirement already satisfied: click in /Users/psicurello/Library/Python/3.8/lib/python/site-packages (from nltk->rouge-score) (7.1.2)\n"
     ]
    }
   ],
   "source": [
    "!pip3 install rouge/requirements.txt\n",
    "!pip3 install rouge-score"
   ]
  },
  {
   "cell_type": "markdown",
   "id": "cfe2ab06",
   "metadata": {},
   "source": [
    "# Scoring"
   ]
  },
  {
   "cell_type": "markdown",
   "id": "bcc7c98b",
   "metadata": {},
   "source": [
    "For scoring, I first extract the keywords in the output from TextRank and the human-written summary (the label). Then I look at the overlap of those keywords to determine how many match -- this will give us an accuracy and precision score, and thus an F1 score. I will also calculate the ROUGE1 score between both the concatenated list of keywords and the summaries themselves."
   ]
  },
  {
   "cell_type": "code",
   "execution_count": 49,
   "id": "d529a17e",
   "metadata": {},
   "outputs": [
    {
     "data": {
      "text/html": [
       "<div>\n",
       "<style scoped>\n",
       "    .dataframe tbody tr th:only-of-type {\n",
       "        vertical-align: middle;\n",
       "    }\n",
       "\n",
       "    .dataframe tbody tr th {\n",
       "        vertical-align: top;\n",
       "    }\n",
       "\n",
       "    .dataframe thead th {\n",
       "        text-align: right;\n",
       "    }\n",
       "</style>\n",
       "<table border=\"1\" class=\"dataframe\">\n",
       "  <thead>\n",
       "    <tr style=\"text-align: right;\">\n",
       "      <th></th>\n",
       "      <th>Summary</th>\n",
       "      <th>Text</th>\n",
       "    </tr>\n",
       "  </thead>\n",
       "  <tbody>\n",
       "    <tr>\n",
       "      <th>0</th>\n",
       "      <td>Keep related supplies in the same area.,Make a...</td>\n",
       "      <td>If you're a photographer, keep all the necess...</td>\n",
       "    </tr>\n",
       "    <tr>\n",
       "      <th>1</th>\n",
       "      <td>Create a sketch in the NeoPopRealist manner of...</td>\n",
       "      <td>See the image for how this drawing develops s...</td>\n",
       "    </tr>\n",
       "    <tr>\n",
       "      <th>2</th>\n",
       "      <td>Get a bachelor’s degree.,Enroll in a studio-ba...</td>\n",
       "      <td>It is possible to become a VFX artist without...</td>\n",
       "    </tr>\n",
       "    <tr>\n",
       "      <th>3</th>\n",
       "      <td>Start with some experience or interest in art....</td>\n",
       "      <td>The best art investors do their research on t...</td>\n",
       "    </tr>\n",
       "    <tr>\n",
       "      <th>4</th>\n",
       "      <td>Keep your reference materials, sketches, artic...</td>\n",
       "      <td>As you start planning for a project or work, ...</td>\n",
       "    </tr>\n",
       "    <tr>\n",
       "      <th>...</th>\n",
       "      <td>...</td>\n",
       "      <td>...</td>\n",
       "    </tr>\n",
       "    <tr>\n",
       "      <th>214288</th>\n",
       "      <td>Consider changing the spelling of your name.,A...</td>\n",
       "      <td>If you have a name that you like, you might f...</td>\n",
       "    </tr>\n",
       "    <tr>\n",
       "      <th>214289</th>\n",
       "      <td>Try out your name.,Don’t legally change your n...</td>\n",
       "      <td>Your name might sound great to you when you s...</td>\n",
       "    </tr>\n",
       "    <tr>\n",
       "      <th>214290</th>\n",
       "      <td>Understand the process of relief printing.,Exa...</td>\n",
       "      <td>Relief printing is the oldest and most tradit...</td>\n",
       "    </tr>\n",
       "    <tr>\n",
       "      <th>214291</th>\n",
       "      <td>Understand the process of intaglio printing.,L...</td>\n",
       "      <td>Intaglio is Italian for \"incis­ing,\" and corr...</td>\n",
       "    </tr>\n",
       "    <tr>\n",
       "      <th>214292</th>\n",
       "      <td>Understand the different varieties of lithogra...</td>\n",
       "      <td>Lithography is a big term often used to refer...</td>\n",
       "    </tr>\n",
       "  </tbody>\n",
       "</table>\n",
       "<p>214293 rows × 2 columns</p>\n",
       "</div>"
      ],
      "text/plain": [
       "                                                  Summary  \\\n",
       "0       Keep related supplies in the same area.,Make a...   \n",
       "1       Create a sketch in the NeoPopRealist manner of...   \n",
       "2       Get a bachelor’s degree.,Enroll in a studio-ba...   \n",
       "3       Start with some experience or interest in art....   \n",
       "4       Keep your reference materials, sketches, artic...   \n",
       "...                                                   ...   \n",
       "214288  Consider changing the spelling of your name.,A...   \n",
       "214289  Try out your name.,Don’t legally change your n...   \n",
       "214290  Understand the process of relief printing.,Exa...   \n",
       "214291  Understand the process of intaglio printing.,L...   \n",
       "214292  Understand the different varieties of lithogra...   \n",
       "\n",
       "                                                     Text  \n",
       "0        If you're a photographer, keep all the necess...  \n",
       "1        See the image for how this drawing develops s...  \n",
       "2        It is possible to become a VFX artist without...  \n",
       "3        The best art investors do their research on t...  \n",
       "4        As you start planning for a project or work, ...  \n",
       "...                                                   ...  \n",
       "214288   If you have a name that you like, you might f...  \n",
       "214289   Your name might sound great to you when you s...  \n",
       "214290   Relief printing is the oldest and most tradit...  \n",
       "214291   Intaglio is Italian for \"incis­ing,\" and corr...  \n",
       "214292   Lithography is a big term often used to refer...  \n",
       "\n",
       "[214293 rows x 2 columns]"
      ]
     },
     "execution_count": 49,
     "metadata": {},
     "output_type": "execute_result"
    }
   ],
   "source": [
    "data"
   ]
  },
  {
   "cell_type": "code",
   "execution_count": 16,
   "id": "7262e1b9",
   "metadata": {},
   "outputs": [],
   "source": [
    "#Create corpus for tf-idf\n",
    "corp = data[\"Text\"][:10000]\n",
    "#for row in data[\"Text\"][:1000]:\n",
    "#    corp = corp + \" \" + row\n",
    "corp = corp.apply(clean_text).to_list()"
   ]
  },
  {
   "cell_type": "code",
   "execution_count": 25,
   "id": "f6ec880c",
   "metadata": {},
   "outputs": [],
   "source": [
    "from sklearn.feature_extraction.text import CountVectorizer\n",
    "from sklearn.feature_extraction.text import TfidfTransformer\n",
    "from nltk.corpus import stopwords\n",
    "\n",
    "class TF_IDF():\n",
    "    def __init__(self, corpus):\n",
    "        self.text = corpus\n",
    "        self.stopwords = set(stopwords.words(\"english\"))\n",
    "        self.cv = CountVectorizer(max_df=0.85, stop_words=self.stopwords)\n",
    "        self.wordcount = self.cv.fit_transform(corpus)\n",
    "    \n",
    "        self.transformer = TfidfTransformer(smooth_idf=True, use_idf=True)\n",
    "        self.transformer.fit(self.wordcount)\n",
    "    \n",
    "    def sort_vals(self, matrix):\n",
    "        tuples = zip(matrix.col, matrix.data)\n",
    "        return sorted(tuples, key=lambda x: (x[1], x[0]), reverse=True)\n",
    "    \n",
    "    def extract_top_k(self, feature_names, items, k=10):\n",
    "        items = items[:k]\n",
    "\n",
    "        scores = []\n",
    "        features = []\n",
    "\n",
    "        for idx, score in items:\n",
    "            scores.append(round(score, 3))\n",
    "            features.append(feature_names[idx])\n",
    "        \n",
    "        results = {}\n",
    "        for idx in range(len(features)):\n",
    "            results[features[idx]] = scores[idx]\n",
    "        \n",
    "        return results\n",
    "\n",
    "    def extract_keywords(self, doc, k=10):\n",
    "        feature_names = self.cv.get_feature_names()\n",
    "        tf_idf_vector = self.transformer.transform(self.cv.transform([doc]))\n",
    "\n",
    "        sort_items = self.sort_vals(tf_idf_vector.tocoo())\n",
    "        keywords = self.extract_top_k(feature_names, sort_items, k)\n",
    "\n",
    "        print(\"\\nDocument\")\n",
    "        print(doc)\n",
    "        print(\"\\nKeywords\")\n",
    "        for k in keywords:\n",
    "            print(k, keywords[k])\n",
    "        \n",
    "        return keywords"
   ]
  },
  {
   "cell_type": "code",
   "execution_count": 26,
   "id": "aa7e820a",
   "metadata": {},
   "outputs": [
    {
     "name": "stdout",
     "output_type": "stream",
     "text": [
      "\n",
      "Document\n",
      " Turning one wall into a chalkboard gives you a perfect space for ideas, sketches, and planning without requiring extra equipment or space. Paint over jars or storage equipment, allowing you to relabel them with chalk as your needs change. This usually has the opposite effect, leading to lost items and uncertainty when cleaning, but an afternoon with a label maker can solve everything. The upper reaches of the room are often the most under-utilized, but provide vital space for all your tools and materials. Discard trash or unnecessary materials and wipe down dirty surfaces.\n",
      "\n",
      "Keywords\n",
      "equipment 0.248\n",
      "relabel 0.246\n",
      "space 0.245\n",
      "materials 0.233\n",
      "chalkboard 0.207\n",
      "utilized 0.2\n",
      "jars 0.2\n",
      "maker 0.196\n",
      "sketches 0.187\n",
      "uncertainty 0.181\n",
      "\n",
      "Document\n",
      "Keep related supplies in the same area.,Make an effort to clean a dedicated workspace after every session.,Place loose supplies in large, clearly visible containers.,Use clotheslines and clips to hang sketches, photos, and reference material.,Use every inch of the room for storage, especially vertical space.,Use chalkboard paint to make space for drafting ideas right on the walls.,Purchase a label maker to make your organization strategy semi-permanent.,Make a habit of throwing out old, excess, or useless stuff each month.\n",
      "\n",
      "Keywords\n",
      "supplies 0.279\n",
      "chalkboard 0.218\n",
      "workspace 0.213\n",
      "maker 0.206\n",
      "sketches 0.197\n",
      "drafting 0.193\n",
      "useless 0.187\n",
      "space 0.172\n",
      "clips 0.17\n",
      "containers 0.164\n"
     ]
    }
   ],
   "source": [
    "tf = TF_IDF(corp)\n",
    "res_keyword = tf.extract_keywords(result, 10)\n",
    "lbl_keyword = tf.extract_keywords(label, 10)"
   ]
  },
  {
   "cell_type": "code",
   "execution_count": 24,
   "id": "81a30d02",
   "metadata": {},
   "outputs": [],
   "source": [
    "from rouge_score import rouge_scorer\n",
    "\n",
    "scorer = rouge_scorer.RougeScorer(['rouge1', 'rougeL'], use_stemmer=True)\n",
    "scores = scorer.score(result,\n",
    "                      label)"
   ]
  },
  {
   "cell_type": "code",
   "execution_count": 21,
   "id": "901d7792",
   "metadata": {},
   "outputs": [
    {
     "name": "stdout",
     "output_type": "stream",
     "text": [
      " Turning one wall into a chalkboard gives you a perfect space for ideas, sketches, and planning without requiring extra equipment or space. Paint over jars or storage equipment, allowing you to relabel them with chalk as your needs change. This usually has the opposite effect, leading to lost items and uncertainty when cleaning, but an afternoon with a label maker can solve everything. The upper reaches of the room are often the most under-utilized, but provide vital space for all your tools and materials. Discard trash or unnecessary materials and wipe down dirty surfaces.\n",
      "\n",
      "\n",
      "Keep related supplies in the same area. Make an effort to clean a dedicated workspace after every session. Place loose supplies in large, clearly visible containers. Use clotheslines and clips to hang sketches, photos, and reference material. Use every inch of the room for storage, especially vertical space. Use chalkboard paint to make space for drafting ideas right on the walls. Purchase a label maker to make your organization strategy semi-permanent. Make a habit of throwing out old, excess, or useless stuff each month.\n"
     ]
    }
   ],
   "source": [
    "print(result)\n",
    "print(\"\\n\")\n",
    "print(lbl)"
   ]
  },
  {
   "cell_type": "code",
   "execution_count": 22,
   "id": "bdb33572",
   "metadata": {},
   "outputs": [
    {
     "data": {
      "text/plain": [
       "{'rouge1': Score(precision=0.3411764705882353, recall=0.30526315789473685, fmeasure=0.32222222222222224),\n",
       " 'rougeL': Score(precision=0.1411764705882353, recall=0.12631578947368421, fmeasure=0.13333333333333333)}"
      ]
     },
     "execution_count": 22,
     "metadata": {},
     "output_type": "execute_result"
    }
   ],
   "source": [
    "scores"
   ]
  },
  {
   "cell_type": "code",
   "execution_count": null,
   "id": "ac2bb5d4",
   "metadata": {},
   "outputs": [],
   "source": []
  }
 ],
 "metadata": {
  "kernelspec": {
   "display_name": "Python 3 (ipykernel)",
   "language": "python",
   "name": "python3"
  },
  "language_info": {
   "codemirror_mode": {
    "name": "ipython",
    "version": 3
   },
   "file_extension": ".py",
   "mimetype": "text/x-python",
   "name": "python",
   "nbconvert_exporter": "python",
   "pygments_lexer": "ipython3",
   "version": "3.8.5"
  }
 },
 "nbformat": 4,
 "nbformat_minor": 5
}

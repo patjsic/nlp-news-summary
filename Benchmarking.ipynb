{
 "cells": [
  {
   "cell_type": "code",
   "execution_count": 18,
   "metadata": {},
   "outputs": [
    {
     "name": "stderr",
     "output_type": "stream",
     "text": [
      "[nltk_data] Downloading package punkt to\n",
      "[nltk_data]     /Users/psicurello/nltk_data...\n",
      "[nltk_data]   Package punkt is already up-to-date!\n"
     ]
    },
    {
     "data": {
      "text/plain": [
       "True"
      ]
     },
     "execution_count": 18,
     "metadata": {},
     "output_type": "execute_result"
    }
   ],
   "source": [
    "import numpy as np\n",
    "import pandas as pd\n",
    "import matplotlib.pyplot as plt\n",
    "from tqdm import tqdm\n",
    "from nltk import tokenize\n",
    "from nltk.corpus import stopwords\n",
    "import re\n",
    "import contractions\n",
    "\n",
    "nltk.download('punkt')"
   ]
  },
  {
   "cell_type": "code",
   "execution_count": 2,
   "metadata": {},
   "outputs": [],
   "source": [
    "data = pd.read_csv('cleaned_data.csv')"
   ]
  },
  {
   "cell_type": "code",
   "execution_count": 4,
   "metadata": {},
   "outputs": [
    {
     "data": {
      "text/html": [
       "<div>\n",
       "<style scoped>\n",
       "    .dataframe tbody tr th:only-of-type {\n",
       "        vertical-align: middle;\n",
       "    }\n",
       "\n",
       "    .dataframe tbody tr th {\n",
       "        vertical-align: top;\n",
       "    }\n",
       "\n",
       "    .dataframe thead th {\n",
       "        text-align: right;\n",
       "    }\n",
       "</style>\n",
       "<table border=\"1\" class=\"dataframe\">\n",
       "  <thead>\n",
       "    <tr style=\"text-align: right;\">\n",
       "      <th></th>\n",
       "      <th>Unnamed: 0</th>\n",
       "      <th>Unnamed: 0.1</th>\n",
       "      <th>Summary</th>\n",
       "      <th>Text</th>\n",
       "      <th>Clean Text</th>\n",
       "      <th>Clean Summary</th>\n",
       "      <th>Lemmatized Summary</th>\n",
       "      <th>Lemmatized Text</th>\n",
       "    </tr>\n",
       "  </thead>\n",
       "  <tbody>\n",
       "    <tr>\n",
       "      <th>0</th>\n",
       "      <td>0</td>\n",
       "      <td>0</td>\n",
       "      <td>Keep related supplies in the same area.,Make a...</td>\n",
       "      <td>If you're a photographer, keep all the necess...</td>\n",
       "      <td>photographer keep necessary lens cords batteri...</td>\n",
       "      <td>keep related supplies area make effort clean d...</td>\n",
       "      <td>related supply area effort clean dedicated wor...</td>\n",
       "      <td>photographer necessary lens cord battery quadr...</td>\n",
       "    </tr>\n",
       "    <tr>\n",
       "      <th>1</th>\n",
       "      <td>1</td>\n",
       "      <td>1</td>\n",
       "      <td>Create a sketch in the NeoPopRealist manner of...</td>\n",
       "      <td>See the image for how this drawing develops s...</td>\n",
       "      <td>see image drawing develops step step however i...</td>\n",
       "      <td>create sketch neopoprealist manner future mura...</td>\n",
       "      <td>create sketch neopoprealist manner future mura...</td>\n",
       "      <td>image drawing develop step step important deta...</td>\n",
       "    </tr>\n",
       "    <tr>\n",
       "      <th>2</th>\n",
       "      <td>2</td>\n",
       "      <td>2</td>\n",
       "      <td>Get a bachelor’s degree.,Enroll in a studio-ba...</td>\n",
       "      <td>It is possible to become a VFX artist without...</td>\n",
       "      <td>possible become vfx artist without college deg...</td>\n",
       "      <td>get bachelor degree enroll studio based progra...</td>\n",
       "      <td>bachelor degree enroll studio base program tra...</td>\n",
       "      <td>possible vfx artist college degree path easy v...</td>\n",
       "    </tr>\n",
       "    <tr>\n",
       "      <th>3</th>\n",
       "      <td>3</td>\n",
       "      <td>3</td>\n",
       "      <td>Start with some experience or interest in art....</td>\n",
       "      <td>The best art investors do their research on t...</td>\n",
       "      <td>the best art investors research pieces art buy...</td>\n",
       "      <td>start experience interest art understand diffe...</td>\n",
       "      <td>start experience interest art understand diffe...</td>\n",
       "      <td>good art investor research piece art buy educa...</td>\n",
       "    </tr>\n",
       "    <tr>\n",
       "      <th>4</th>\n",
       "      <td>4</td>\n",
       "      <td>4</td>\n",
       "      <td>Keep your reference materials, sketches, artic...</td>\n",
       "      <td>As you start planning for a project or work, ...</td>\n",
       "      <td>start planning project work likely gathering s...</td>\n",
       "      <td>keep reference materials sketches articles pho...</td>\n",
       "      <td>reference material sketch article photo etc ea...</td>\n",
       "      <td>start plan project work likely gather scrap in...</td>\n",
       "    </tr>\n",
       "    <tr>\n",
       "      <th>...</th>\n",
       "      <td>...</td>\n",
       "      <td>...</td>\n",
       "      <td>...</td>\n",
       "      <td>...</td>\n",
       "      <td>...</td>\n",
       "      <td>...</td>\n",
       "      <td>...</td>\n",
       "      <td>...</td>\n",
       "    </tr>\n",
       "    <tr>\n",
       "      <th>214288</th>\n",
       "      <td>215360</td>\n",
       "      <td>215360</td>\n",
       "      <td>Consider changing the spelling of your name.,A...</td>\n",
       "      <td>If you have a name that you like, you might f...</td>\n",
       "      <td>name like might fiddle spelling see alternate ...</td>\n",
       "      <td>consider changing spelling name avoid symbols ...</td>\n",
       "      <td>consider change spelling avoid symbol add exot...</td>\n",
       "      <td>like fiddle spelling alternate letter interest...</td>\n",
       "    </tr>\n",
       "    <tr>\n",
       "      <th>214289</th>\n",
       "      <td>215361</td>\n",
       "      <td>215361</td>\n",
       "      <td>Try out your name.,Don’t legally change your n...</td>\n",
       "      <td>Your name might sound great to you when you s...</td>\n",
       "      <td>your name might sound great say loud bedroom f...</td>\n",
       "      <td>try name legally change name register stage na...</td>\n",
       "      <td>try legally change register stage trade guild ...</td>\n",
       "      <td>sound great loud bedroom find sound announce t...</td>\n",
       "    </tr>\n",
       "    <tr>\n",
       "      <th>214290</th>\n",
       "      <td>215362</td>\n",
       "      <td>215362</td>\n",
       "      <td>Understand the process of relief printing.,Exa...</td>\n",
       "      <td>Relief printing is the oldest and most tradit...</td>\n",
       "      <td>relief printing oldest traditional printing te...</td>\n",
       "      <td>understand process relief printing examine rim...</td>\n",
       "      <td>understand process relief printing examine rim...</td>\n",
       "      <td>relief print oldest traditional print technolo...</td>\n",
       "    </tr>\n",
       "    <tr>\n",
       "      <th>214291</th>\n",
       "      <td>215363</td>\n",
       "      <td>215363</td>\n",
       "      <td>Understand the process of intaglio printing.,L...</td>\n",
       "      <td>Intaglio is Italian for \"incis­ing,\" and corr...</td>\n",
       "      <td>intaglio italian incis ing correspondingly rev...</td>\n",
       "      <td>understand process intaglio printing look plat...</td>\n",
       "      <td>understand process intaglio print look plate m...</td>\n",
       "      <td>intaglio italian incis ing correspondingly rev...</td>\n",
       "    </tr>\n",
       "    <tr>\n",
       "      <th>214292</th>\n",
       "      <td>215364</td>\n",
       "      <td>215364</td>\n",
       "      <td>Understand the different varieties of lithogra...</td>\n",
       "      <td>Lithography is a big term often used to refer...</td>\n",
       "      <td>lithography big term often used refer many dif...</td>\n",
       "      <td>understand different varieties lithography mag...</td>\n",
       "      <td>understand different variety lithography magni...</td>\n",
       "      <td>lithography big term refer different style pri...</td>\n",
       "    </tr>\n",
       "  </tbody>\n",
       "</table>\n",
       "<p>214293 rows × 8 columns</p>\n",
       "</div>"
      ],
      "text/plain": [
       "        Unnamed: 0  Unnamed: 0.1  \\\n",
       "0                0             0   \n",
       "1                1             1   \n",
       "2                2             2   \n",
       "3                3             3   \n",
       "4                4             4   \n",
       "...            ...           ...   \n",
       "214288      215360        215360   \n",
       "214289      215361        215361   \n",
       "214290      215362        215362   \n",
       "214291      215363        215363   \n",
       "214292      215364        215364   \n",
       "\n",
       "                                                  Summary  \\\n",
       "0       Keep related supplies in the same area.,Make a...   \n",
       "1       Create a sketch in the NeoPopRealist manner of...   \n",
       "2       Get a bachelor’s degree.,Enroll in a studio-ba...   \n",
       "3       Start with some experience or interest in art....   \n",
       "4       Keep your reference materials, sketches, artic...   \n",
       "...                                                   ...   \n",
       "214288  Consider changing the spelling of your name.,A...   \n",
       "214289  Try out your name.,Don’t legally change your n...   \n",
       "214290  Understand the process of relief printing.,Exa...   \n",
       "214291  Understand the process of intaglio printing.,L...   \n",
       "214292  Understand the different varieties of lithogra...   \n",
       "\n",
       "                                                     Text  \\\n",
       "0        If you're a photographer, keep all the necess...   \n",
       "1        See the image for how this drawing develops s...   \n",
       "2        It is possible to become a VFX artist without...   \n",
       "3        The best art investors do their research on t...   \n",
       "4        As you start planning for a project or work, ...   \n",
       "...                                                   ...   \n",
       "214288   If you have a name that you like, you might f...   \n",
       "214289   Your name might sound great to you when you s...   \n",
       "214290   Relief printing is the oldest and most tradit...   \n",
       "214291   Intaglio is Italian for \"incis­ing,\" and corr...   \n",
       "214292   Lithography is a big term often used to refer...   \n",
       "\n",
       "                                               Clean Text  \\\n",
       "0       photographer keep necessary lens cords batteri...   \n",
       "1       see image drawing develops step step however i...   \n",
       "2       possible become vfx artist without college deg...   \n",
       "3       the best art investors research pieces art buy...   \n",
       "4       start planning project work likely gathering s...   \n",
       "...                                                   ...   \n",
       "214288  name like might fiddle spelling see alternate ...   \n",
       "214289  your name might sound great say loud bedroom f...   \n",
       "214290  relief printing oldest traditional printing te...   \n",
       "214291  intaglio italian incis ing correspondingly rev...   \n",
       "214292  lithography big term often used refer many dif...   \n",
       "\n",
       "                                            Clean Summary  \\\n",
       "0       keep related supplies area make effort clean d...   \n",
       "1       create sketch neopoprealist manner future mura...   \n",
       "2       get bachelor degree enroll studio based progra...   \n",
       "3       start experience interest art understand diffe...   \n",
       "4       keep reference materials sketches articles pho...   \n",
       "...                                                   ...   \n",
       "214288  consider changing spelling name avoid symbols ...   \n",
       "214289  try name legally change name register stage na...   \n",
       "214290  understand process relief printing examine rim...   \n",
       "214291  understand process intaglio printing look plat...   \n",
       "214292  understand different varieties lithography mag...   \n",
       "\n",
       "                                       Lemmatized Summary  \\\n",
       "0       related supply area effort clean dedicated wor...   \n",
       "1       create sketch neopoprealist manner future mura...   \n",
       "2       bachelor degree enroll studio base program tra...   \n",
       "3       start experience interest art understand diffe...   \n",
       "4       reference material sketch article photo etc ea...   \n",
       "...                                                   ...   \n",
       "214288  consider change spelling avoid symbol add exot...   \n",
       "214289  try legally change register stage trade guild ...   \n",
       "214290  understand process relief printing examine rim...   \n",
       "214291  understand process intaglio print look plate m...   \n",
       "214292  understand different variety lithography magni...   \n",
       "\n",
       "                                          Lemmatized Text  \n",
       "0       photographer necessary lens cord battery quadr...  \n",
       "1       image drawing develop step step important deta...  \n",
       "2       possible vfx artist college degree path easy v...  \n",
       "3       good art investor research piece art buy educa...  \n",
       "4       start plan project work likely gather scrap in...  \n",
       "...                                                   ...  \n",
       "214288  like fiddle spelling alternate letter interest...  \n",
       "214289  sound great loud bedroom find sound announce t...  \n",
       "214290  relief print oldest traditional print technolo...  \n",
       "214291  intaglio italian incis ing correspondingly rev...  \n",
       "214292  lithography big term refer different style pri...  \n",
       "\n",
       "[214293 rows x 8 columns]"
      ]
     },
     "execution_count": 4,
     "metadata": {},
     "output_type": "execute_result"
    }
   ],
   "source": [
    "data"
   ]
  },
  {
   "cell_type": "code",
   "execution_count": 5,
   "metadata": {},
   "outputs": [],
   "source": [
    "abridged = data[:10]"
   ]
  },
  {
   "cell_type": "markdown",
   "metadata": {},
   "source": [
    "### Data Preprocessing"
   ]
  },
  {
   "cell_type": "code",
   "execution_count": 8,
   "metadata": {},
   "outputs": [],
   "source": [
    "\"\"\" Here we set text to lower case, remove plurals, \n",
    "    expand contractions, remove punctuation, remove stopwords, and remove short words \n",
    "    (could also remove parentheticals)\"\"\"\n",
    "\n",
    "stop = set(stopwords.words('english'))\n",
    "def clean_text(text):\n",
    "    ret = text.lower()\n",
    "    ret = contractions.fix(text)\n",
    "    ret = re.sub(r'\\([^)]*\\)', '', ret)\n",
    "    ret = re.sub('\"','', ret)\n",
    "    ret = re.sub(r\"'s\\b\",\"\", ret)\n",
    "    ret = re.sub(\"[^a-zA-Z]\", \" \", ret) \n",
    "    \n",
    "    #Remove any words shorter than 2 letters\n",
    "    tokens = [w for w in ret.split() if not w in stop]\n",
    "    long_words=[]\n",
    "    for i in tokens:\n",
    "        if len(i)>=3:                 \n",
    "            long_words.append(i)   \n",
    "    return (\" \".join(long_words)).strip()"
   ]
  },
  {
   "cell_type": "code",
   "execution_count": 101,
   "metadata": {},
   "outputs": [],
   "source": [
    "test = data['Text'][0]\n",
    "text = test.replace('\\\\', '').replace('/', '').replace('.,', '.').replace('.;,', '.')"
   ]
  },
  {
   "cell_type": "code",
   "execution_count": 84,
   "metadata": {},
   "outputs": [
    {
     "data": {
      "text/plain": [
       "'clean_articles = []\\nfor a in articles:\\n    temp = []\\n    for sen in a:\\n        temp.append(clean_text(sen))\\n    clean_articles.append(temp)'"
      ]
     },
     "execution_count": 84,
     "metadata": {},
     "output_type": "execute_result"
    }
   ],
   "source": [
    "from nltk.tokenize import sent_tokenize\n",
    "articles = []\n",
    "#for s in abridged['Text']:\n",
    "#    articles.append(sent_tokenize(s))  \n",
    "\n",
    "sentence = sent_tokenize(text)\n",
    "clean = []\n",
    "for sen in sentence:\n",
    "    clean.append(clean_text(sen))\n",
    "\"\"\"clean_articles = []\n",
    "for a in articles:\n",
    "    temp = []\n",
    "    for sen in a:\n",
    "        temp.append(clean_text(sen))\n",
    "    clean_articles.append(temp)\"\"\""
   ]
  },
  {
   "cell_type": "code",
   "execution_count": 112,
   "metadata": {},
   "outputs": [
    {
     "data": {
      "text/plain": [
       "'sent_vector=[]\\nfor i in clean_articles[1]:\\n    plus=0\\n    for j in i.split():\\n        plus+= model.wv[j]\\n    plus = plus/len(i.split())\\n    sent_vector.append(plus)'"
      ]
     },
     "execution_count": 112,
     "metadata": {},
     "output_type": "execute_result"
    }
   ],
   "source": [
    "#Word2Vec\n",
    "from gensim.models import Word2Vec\n",
    "from nltk.corpus import stopwords\n",
    "\n",
    "words = []\n",
    "all_words = [i.split() for i in clean]\n",
    "model = Word2Vec(all_words, min_count=1, vector_size=300)\n",
    "\n",
    "sent_vector=[]\n",
    "for i in clean:\n",
    "    plus=0\n",
    "    for j in i.split():\n",
    "        plus+= model.wv[j]\n",
    "    plus = plus/len(i.split())\n",
    "    sent_vector.append(plus)\n",
    "\n",
    "\"\"\"sent_vector=[]\n",
    "for i in clean_articles[1]:\n",
    "    plus=0\n",
    "    for j in i.split():\n",
    "        plus+= model.wv[j]\n",
    "    plus = plus/len(i.split())\n",
    "    sent_vector.append(plus)\"\"\""
   ]
  },
  {
   "cell_type": "markdown",
   "metadata": {},
   "source": [
    "### KMeans"
   ]
  },
  {
   "cell_type": "code",
   "execution_count": 96,
   "metadata": {},
   "outputs": [
    {
     "name": "stdout",
     "output_type": "stream",
     "text": [
      "clean each night.\n",
      "Endeavor to leave the workspace in a way that you can sit down the next day and start working immediately, without having to do any work or tidying.Even if the rest of your studio is a bit disorganized, an organized workspace will help you get down to business every time you want to make art.\n",
      "Once a month, do a purge of your studio.\n",
      "Artists are constantly making new things, experimenting, and making a mess.\n",
      "Toss it.\n"
     ]
    }
   ],
   "source": [
    "import numpy as np\n",
    "from sklearn.cluster import KMeans\n",
    "from scipy.spatial import distance\n",
    "\n",
    "n_clusters = 5\n",
    "kmeans = KMeans(n_clusters, init = 'k-means++', random_state = 42)\n",
    "y_kmeans = kmeans.fit_predict(sent_vector)\n",
    "\n",
    "my_list=[]\n",
    "for i in range(n_clusters):\n",
    "    my_dict={}\n",
    "    \n",
    "    for j in range(len(y_kmeans)):\n",
    "        \n",
    "        if y_kmeans[j]==i:\n",
    "            my_dict[j] = distance.euclidean(kmeans.cluster_centers_[i],sent_vector[j])\n",
    "    min_distance = min(my_dict.values())\n",
    "    my_list.append(min(my_dict, key=my_dict.get))\n",
    " \n",
    "                            \n",
    "for i in sorted(my_list):\n",
    "    print(sentence[i])"
   ]
  },
  {
   "cell_type": "markdown",
   "metadata": {},
   "source": [
    "### TextRank"
   ]
  },
  {
   "cell_type": "code",
   "execution_count": 110,
   "metadata": {},
   "outputs": [
    {
     "name": "stderr",
     "output_type": "stream",
     "text": [
      "100%|██████████| 29/29 [00:00<00:00, 186.29it/s]"
     ]
    },
    {
     "name": "stdout",
     "output_type": "stream",
     "text": [
      "(29, 29)\n"
     ]
    },
    {
     "name": "stderr",
     "output_type": "stream",
     "text": [
      "\n"
     ]
    }
   ],
   "source": [
    "from sklearn.metrics.pairwise import cosine_similarity\n",
    "from tqdm import tqdm\n",
    "\n",
    "#Generate Similarity Matrix\n",
    "mat = np.zeros([len(sentence), len(sentence)])\n",
    "for i in tqdm(range(len(sentence))):\n",
    "    for j in range(len(sentence)):\n",
    "        if i != j:\n",
    "            mat[i][j] = cosine_similarity(sent_vector[i].reshape(1,-1), sent_vector[j].reshape(1, -1))[0,0]"
   ]
  },
  {
   "cell_type": "code",
   "execution_count": 117,
   "metadata": {},
   "outputs": [
    {
     "name": "stderr",
     "output_type": "stream",
     "text": [
      "<ipython-input-117-3e6bd4173755>:5: DeprecationWarning: networkx.pagerank_numpy is deprecated and will be removed in NetworkX 3.0, use networkx.pagerank instead.\n",
      "  scores = net.pagerank_numpy(graph)\n"
     ]
    }
   ],
   "source": [
    "import networkx as net\n",
    "\n",
    "#Implement TextRank using PageRank\n",
    "graph = net.from_numpy_array(mat)\n",
    "scores = net.pagerank_numpy(graph)"
   ]
  },
  {
   "cell_type": "code",
   "execution_count": 123,
   "metadata": {},
   "outputs": [
    {
     "name": "stdout",
     "output_type": "stream",
     "text": [
      " clean each night. Cheap and easy, this is also a good way to handle papers and ideas you touch regularly or need to pin up and down for inspiration. You can even use it for smaller areas. Paints should be kept with brushes, cleaner, and canvas, print supplies should be by the ink, etc. Endeavor to leave the workspace in a way that you can sit down the next day and start working immediately, without having to do any work or tidying.Even if the rest of your studio is a bit disorganized, an organized workspace will help you get down to business every time you want to make art. Shelving is an artist's best friend and is a cheap and easy way to get more room in your studio or art space. Once a month, do a purge of your studio. Turning one wall into a chalkboard gives you a perfect space for ideas, sketches, and planning without requiring extra equipment or space.\n"
     ]
    }
   ],
   "source": [
    "ranked_sentences = sorted(((scores[i],s) for i,s in enumerate(sentence)), reverse=True)\n",
    "#for i in range(10):\n",
    "#    print(ranked_sentences[i])\n",
    "\n",
    "result = \"\"\n",
    "for i in range(8):\n",
    "    result += \" \" + ranked_sentences[i][1]\n",
    "print(result)"
   ]
  },
  {
   "cell_type": "markdown",
   "metadata": {},
   "source": [
    "### Huggingface"
   ]
  },
  {
   "cell_type": "code",
   "execution_count": 124,
   "metadata": {},
   "outputs": [],
   "source": [
    "from transformers import pipeline\n",
    "import os"
   ]
  },
  {
   "cell_type": "code",
   "execution_count": 128,
   "metadata": {},
   "outputs": [
    {
     "name": "stderr",
     "output_type": "stream",
     "text": [
      "No model was supplied, defaulted to sshleifer/distilbart-cnn-12-6 (https://huggingface.co/sshleifer/distilbart-cnn-12-6)\n"
     ]
    },
    {
     "name": "stdout",
     "output_type": "stream",
     "text": [
      " A lot of artist clutter comes from a desire to keep track of supplies visually instead of tucked out of sight . By using jars, old glasses, vases, and cheap, clear plastic drawers, you can keep things in sight without leaving it strewn about haphazardly . Shelving is an artist's best friend and is a cheap and easy way to get more room .\n"
     ]
    }
   ],
   "source": [
    "os.environ[\"CUDA_VISIBLE_DEVICES\"] = \"0\"\n",
    "summarizer = pipeline(\"summarization\")\n",
    "summary_text = summarizer(text, max_length=100, min_length=5, do_sample=False)[0]['summary_text']\n",
    "print(summary_text)"
   ]
  },
  {
   "cell_type": "code",
   "execution_count": 133,
   "metadata": {},
   "outputs": [
    {
     "name": "stdout",
     "output_type": "stream",
     "text": [
      "Collecting sentencepiece\n",
      "  Using cached sentencepiece-0.1.96-cp38-cp38-macosx_10_6_x86_64.whl (1.1 MB)\n",
      "Installing collected packages: sentencepiece\n",
      "Successfully installed sentencepiece-0.1.96\n"
     ]
    }
   ],
   "source": [
    "!pip3 install sentencepiece"
   ]
  },
  {
   "cell_type": "markdown",
   "metadata": {},
   "source": [
    "We see that both our unsupervised extractive models perform fairly poorly. I first used embedded the sentences using Word2Vec, and then tried both a TextRank and KMeans algorithm to find the \"most important\" sentences in the article. This produced sub-par results, with KMeans's producing a barely legible paragraph and TextRank performing slightly better.\n",
    "\n",
    "Then, for benchmarking purposes, I used the default distilbart-cnn-12-6 model from huggingface's model repo and nlp pipeline to summarize the same article. The results were much better, indicating that I should proceed with abstractive summarization."
   ]
  },
  {
   "cell_type": "code",
   "execution_count": null,
   "metadata": {},
   "outputs": [],
   "source": []
  }
 ],
 "metadata": {
  "kernelspec": {
   "display_name": "Python 3",
   "language": "python",
   "name": "python3"
  },
  "language_info": {
   "codemirror_mode": {
    "name": "ipython",
    "version": 3
   },
   "file_extension": ".py",
   "mimetype": "text/x-python",
   "name": "python",
   "nbconvert_exporter": "python",
   "pygments_lexer": "ipython3",
   "version": "3.8.3"
  }
 },
 "nbformat": 4,
 "nbformat_minor": 4
}
